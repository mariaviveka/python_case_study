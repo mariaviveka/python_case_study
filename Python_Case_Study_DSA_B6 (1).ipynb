{
  "nbformat": 4,
  "nbformat_minor": 0,
  "metadata": {
    "colab": {
      "provenance": []
    },
    "kernelspec": {
      "name": "python3",
      "display_name": "Python 3"
    },
    "language_info": {
      "name": "python"
    }
  },
  "cells": [
    {
      "cell_type": "markdown",
      "source": [
        "# Answer the following questions using only builtin Python datatypes and functions. Do not use Numpy or Scipy (i.e. No library imports allowed)"
      ],
      "metadata": {
        "id": "zVV_KMSIUG-A"
      }
    },
    {
      "cell_type": "markdown",
      "source": [
        "# Q1. Write a function that return the range (maximum and minimun) of a given list of numbers"
      ],
      "metadata": {
        "id": "uZnK7VgWV5SI"
      }
    },
    {
      "cell_type": "code",
      "source": [
        "def range():\n",
        "  n = [20,12,3,18,23]\n",
        "  print(\"Maximum value : \",max(n))\n",
        "  print(\"Minimum value : \",min(n))\n",
        "range()"
      ],
      "metadata": {
        "id": "vuAbJQcOWAM7",
        "colab": {
          "base_uri": "https://localhost:8080/"
        },
        "outputId": "8d0e406c-8057-4cfd-b54b-c9a465bf7d06"
      },
      "execution_count": 4,
      "outputs": [
        {
          "output_type": "stream",
          "name": "stdout",
          "text": [
            "Maximum value :  23\n",
            "Minimum value :  3\n"
          ]
        }
      ]
    },
    {
      "cell_type": "markdown",
      "source": [
        "## Q2. Write function that returns mean value of a list of numbers"
      ],
      "metadata": {
        "id": "Y5_v5a8_U1O-"
      }
    },
    {
      "cell_type": "code",
      "source": [
        "def mean():\n",
        "  n = [20,12,3,18,23]\n",
        "  a = sum(n)\n",
        "  print(\"Mean value : \",a/len(n))\n",
        "mean()"
      ],
      "metadata": {
        "id": "RajjEyacU7Sc",
        "colab": {
          "base_uri": "https://localhost:8080/"
        },
        "outputId": "307a2e5b-1f6c-4e89-8d5e-6db0f9394563"
      },
      "execution_count": 5,
      "outputs": [
        {
          "output_type": "stream",
          "name": "stdout",
          "text": [
            "Mean value :  15.2\n"
          ]
        }
      ]
    },
    {
      "cell_type": "markdown",
      "source": [
        "# Q3. Write a function that returns the median value of a list of numbers"
      ],
      "metadata": {
        "id": "OpeRxoEoVTIP"
      }
    },
    {
      "cell_type": "code",
      "source": [
        "def median():\n",
        "  n = [20,12,3,18,23,28]\n",
        "  n.sort()\n",
        "  print(n)\n",
        "  if len(n) % 2 == 0:\n",
        "    m1 = len(n)/2\n",
        "    m2 = len(n)/2 + 1\n",
        "    m = int((m1+m2)/2)\n",
        "    print(\"Median :\",n[m-1],n[m])\n",
        "  else:\n",
        "    m = int((len(n)+1)/2)\n",
        "    print(\"Median :\",n[m-1])\n",
        "median()"
      ],
      "metadata": {
        "colab": {
          "base_uri": "https://localhost:8080/"
        },
        "id": "jswOG6yAT1xc",
        "outputId": "baf16269-675f-444f-e6b9-d3ec8cb618f2"
      },
      "execution_count": 13,
      "outputs": [
        {
          "output_type": "stream",
          "name": "stdout",
          "text": [
            "[3, 12, 18, 20, 23, 28]\n",
            "Median : 18 20\n"
          ]
        }
      ]
    },
    {
      "cell_type": "markdown",
      "source": [
        "## Q4. Write a function to return the mod of a list of numbers, if no mod exists, it should return None. If more than one mod exist, return the mod values as list"
      ],
      "metadata": {
        "id": "2EMOG7AZSqVn"
      }
    },
    {
      "cell_type": "code",
      "execution_count": null,
      "metadata": {
        "id": "qnMm2dhhSk3-"
      },
      "outputs": [],
      "source": [
        "def mode():\n",
        "  n = [21,3,5,20,17,3,5,18]\n",
        "  frequency =\n"
      ]
    },
    {
      "cell_type": "markdown",
      "source": [
        "## Q5. Write function to compute a given percentile value (e.g. 90th percentile) of a list of numbers"
      ],
      "metadata": {
        "id": "LcqWwqtgTCiL"
      }
    },
    {
      "cell_type": "code",
      "source": [
        "def percentile():\n",
        "  n = [10,20,30,40,50]\n",
        "  p = int(input(\"Enter the percentile : \"))\n",
        "  p1 = int(p/100 * len(n)+1)\n",
        "  print(\"Percentile : \",n[p1-1])\n",
        "percentile()"
      ],
      "metadata": {
        "colab": {
          "base_uri": "https://localhost:8080/"
        },
        "id": "bOKeHmiffL6R",
        "outputId": "5d6880df-e3d4-4f8f-a1c1-c97d88884a6e"
      },
      "execution_count": 25,
      "outputs": [
        {
          "output_type": "stream",
          "name": "stdout",
          "text": [
            "Enter the percentile : 90\n",
            "Percentile :  50\n"
          ]
        }
      ]
    },
    {
      "cell_type": "markdown",
      "source": [
        "# Q6. Write a function that returns the lower bound of a list of numbers"
      ],
      "metadata": {
        "id": "N-TYHkDcWOfS"
      }
    },
    {
      "cell_type": "code",
      "source": [
        "def lower_bound():\n",
        "  n = [10,20,30,40,50]\n",
        "  Q1 = int(25/100 * len(n)+1)\n",
        "  Q3 = int(75/100 * len(n)+1)\n",
        "  print(\"Q1 : \",n[Q1-1])\n",
        "  print(\"Q3 : \",n[Q3])\n",
        "  IQR = n[Q3] - n[Q1-1]\n",
        "  print(\"IQR : \",IQR)\n",
        "  LB = n[Q1-1] - (1.5 * IQR)\n",
        "  print(\"Lower bound : \",LB)\n",
        "lower_bound()"
      ],
      "metadata": {
        "id": "Y-RKPdKuW5nx",
        "colab": {
          "base_uri": "https://localhost:8080/"
        },
        "outputId": "640f66c7-df4f-45d3-f231-d43923a69677"
      },
      "execution_count": 73,
      "outputs": [
        {
          "output_type": "stream",
          "name": "stdout",
          "text": [
            "Q1 :  20\n",
            "Q3 :  50\n",
            "IQR :  30\n",
            "Lower bound :  -25.0\n"
          ]
        }
      ]
    },
    {
      "cell_type": "markdown",
      "source": [
        "## Q7. Write function to return any outliers from a given list of numbers, if no outliers present it should return None"
      ],
      "metadata": {
        "id": "5aHfaI_jThpX"
      }
    },
    {
      "cell_type": "code",
      "source": [
        "def outliers():\n",
        "  n = [10,20,30,40,50]\n",
        "  Q1 = int(25/100 * len(n)+1)\n",
        "  Q3 = int(75/100 * len(n)+1)\n",
        "  IQR = n[Q3] - n[Q1-1]\n",
        "  LB = n[Q1-1] - (1.5 * IQR)\n",
        "  print(\"Lower bound : \",LB)\n",
        "  UB = Q3 + 1.5 * IQR\n",
        "  print(\"Upper bound : \",UB)\n",
        "  for i in n:\n",
        "    if i < LB or i > UB:\n",
        "      print(\"Outliers : \",i)\n",
        "    else:\n",
        "      None\n",
        "outliers()"
      ],
      "metadata": {
        "id": "gG6-qzT7T0Si",
        "colab": {
          "base_uri": "https://localhost:8080/"
        },
        "outputId": "8e5c66e8-9887-4057-9a1c-3e8763cc7d3f"
      },
      "execution_count": 74,
      "outputs": [
        {
          "output_type": "stream",
          "name": "stdout",
          "text": [
            "Lower bound :  -25.0\n",
            "Upper bound :  49.0\n",
            "Outliers :  50\n"
          ]
        }
      ]
    },
    {
      "cell_type": "markdown",
      "source": [
        "##Q8. Write a function to return standard deviation of a list of numbers"
      ],
      "metadata": {
        "id": "jI9t-tcDT5EK"
      }
    },
    {
      "cell_type": "code",
      "source": [
        "def standard_deviation():\n",
        "  n = [20,12,3,18,23]\n",
        "  a = sum(n)/len(n)\n",
        "  print(\"Mean value : \",a)\n",
        "  variance = sum((i - a)**2 for i in n)/len(n)\n",
        "  print(\"Variance : \",variance)\n",
        "  standard_deviation = variance ** 0.5\n",
        "  print(\"Standard deviation : %.2f\"%standard_deviation)\n",
        "standard_deviation()"
      ],
      "metadata": {
        "id": "MMU_cMlLUFxJ",
        "colab": {
          "base_uri": "https://localhost:8080/"
        },
        "outputId": "caacef58-7fc4-4410-d49f-c0154766f322"
      },
      "execution_count": 47,
      "outputs": [
        {
          "output_type": "stream",
          "name": "stdout",
          "text": [
            "Mean value :  15.2\n",
            "Variance :  50.16\n",
            "Standard deviation : 7.08\n"
          ]
        }
      ]
    },
    {
      "cell_type": "markdown",
      "source": [
        "## Q9. Write function to compute and return Z-score values of a list of numbers"
      ],
      "metadata": {
        "id": "LufmQDJPURkM"
      }
    },
    {
      "cell_type": "code",
      "source": [
        "def Z_score():\n",
        "  n = [20,12,3,18,23]\n",
        "  a = sum(n)/len(n)\n",
        "  print(\"Mean value : \",a)\n",
        "  variance = sum((i - a)**2 for i in n)/len(n)\n",
        "  print(\"Variance : \",variance)\n",
        "  standard_deviation = variance ** 0.5\n",
        "  print(\"Standard deviation : %.2f\"%standard_deviation)\n",
        "  for i in n:\n",
        "    z_score = (i - a)/standard_deviation\n",
        "    print(\"Z-score : %.2f\"%z_score)\n",
        "Z_score()"
      ],
      "metadata": {
        "id": "ml2qpSpFUYxV",
        "colab": {
          "base_uri": "https://localhost:8080/"
        },
        "outputId": "91e3a505-25ab-453e-f4af-99853965af0e"
      },
      "execution_count": 50,
      "outputs": [
        {
          "output_type": "stream",
          "name": "stdout",
          "text": [
            "Mean value :  15.2\n",
            "Variance :  50.16\n",
            "Standard deviation : 7.08\n",
            "Z-score : 0.68\n",
            "Z-score : -0.45\n",
            "Z-score : -1.72\n",
            "Z-score : 0.40\n",
            "Z-score : 1.10\n"
          ]
        }
      ]
    },
    {
      "cell_type": "markdown",
      "source": [
        "## Q10. Write a function to compute and return the Pearson correlation coefficient value of two list of numbers"
      ],
      "metadata": {
        "id": "YQSNHIfxUb6s"
      }
    },
    {
      "cell_type": "code",
      "source": [
        "x = [2,4,3,6,8]\n",
        "y = [1,3,5,7,2]\n",
        "a = sum(x)/len(x)\n",
        "b = sum(y)/len(y)\n",
        "c = i - a for i in range len(x)\n",
        "d = i - b for i in range len(y)\n",
        "numerator = sum(c*d)\n",
        "print(numerator)\n"
      ],
      "metadata": {
        "id": "1YGqr3T6Uk6H",
        "colab": {
          "base_uri": "https://localhost:8080/",
          "height": 106
        },
        "outputId": "bc9b2483-28e9-4023-ce01-e15f57e6751a"
      },
      "execution_count": 59,
      "outputs": [
        {
          "output_type": "error",
          "ename": "SyntaxError",
          "evalue": "invalid syntax (ipython-input-59-2985196533.py, line 5)",
          "traceback": [
            "\u001b[0;36m  File \u001b[0;32m\"/tmp/ipython-input-59-2985196533.py\"\u001b[0;36m, line \u001b[0;32m5\u001b[0m\n\u001b[0;31m    c = i - a for i in range len(x)\u001b[0m\n\u001b[0m              ^\u001b[0m\n\u001b[0;31mSyntaxError\u001b[0m\u001b[0;31m:\u001b[0m invalid syntax\n"
          ]
        }
      ]
    }
  ]
}